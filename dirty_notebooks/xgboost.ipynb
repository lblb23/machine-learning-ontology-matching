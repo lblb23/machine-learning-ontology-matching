{
 "cells": [
  {
   "cell_type": "code",
   "execution_count": 1,
   "metadata": {},
   "outputs": [
    {
     "ename": "ModuleNotFoundError",
     "evalue": "No module named 'xgboost'",
     "output_type": "error",
     "traceback": [
      "\u001b[0;31m---------------------------------------------------------------------------\u001b[0m",
      "\u001b[0;31mModuleNotFoundError\u001b[0m                       Traceback (most recent call last)",
      "\u001b[0;32m<ipython-input-1-50b125aec1c5>\u001b[0m in \u001b[0;36m<module>\u001b[0;34m\u001b[0m\n\u001b[0;32m----> 1\u001b[0;31m \u001b[0;32mimport\u001b[0m \u001b[0mxgboost\u001b[0m \u001b[0;32mas\u001b[0m \u001b[0mxgb\u001b[0m\u001b[0;34m\u001b[0m\u001b[0;34m\u001b[0m\u001b[0m\n\u001b[0m\u001b[1;32m      2\u001b[0m \u001b[0;32mimport\u001b[0m \u001b[0mpandas\u001b[0m \u001b[0;32mas\u001b[0m \u001b[0mpd\u001b[0m\u001b[0;34m\u001b[0m\u001b[0;34m\u001b[0m\u001b[0m\n\u001b[1;32m      3\u001b[0m \u001b[0;32mfrom\u001b[0m \u001b[0msklearn\u001b[0m\u001b[0;34m.\u001b[0m\u001b[0mmetrics\u001b[0m \u001b[0;32mimport\u001b[0m \u001b[0mf1_score\u001b[0m\u001b[0;34m\u001b[0m\u001b[0;34m\u001b[0m\u001b[0m\n",
      "\u001b[0;31mModuleNotFoundError\u001b[0m: No module named 'xgboost'"
     ]
    }
   ],
   "source": [
    "import xgboost as xgb\n",
    "import pandas as pd\n",
    "from sklearn.metrics import f1_score"
   ]
  },
  {
   "cell_type": "code",
   "execution_count": null,
   "metadata": {},
   "outputs": [],
   "source": [
    "train_features = pd.read_csv('dataset1_train_features.csv')\n",
    "test_features = pd.read_csv('dataset1_test_features.csv')\n",
    "\n",
    "train_types = []\n",
    "\n",
    "for row in train_features['Type']:\n",
    "    if row == 'Class':\n",
    "        train_types.append(1)\n",
    "    else:\n",
    "        train_types.append(0)\n",
    "        \n",
    "train_features['Type_encode'] = train_types\n",
    "\n",
    "test_types = []\n",
    "\n",
    "for row in test_features['Type']:\n",
    "    if row == 'Class':\n",
    "        test_types.append(1)\n",
    "    else:\n",
    "        test_types.append(0)\n",
    "        \n",
    "test_features['Type_encode'] = test_types\n",
    "\n",
    "X_train = train_features.loc[:, 'Ngram1_Entity':'Type_encode']\n",
    "y_train = train_features['Match']\n",
    "\n",
    "X_test = test_features.loc[:, 'Ngram1_Entity':'Type_encode']\n",
    "y_test = test_features['Match']\n",
    "\n",
    "df_train = train_features.loc[:, 'Ngram1_Entity':'Type_encode']\n",
    "df_train['Match'] = train_features['Match']\n",
    "\n",
    "df_test = test_features.loc[:, 'Ngram1_Entity':'Type_encode']\n",
    "df_test['Match'] = test_features['Match']\n",
    "\n",
    "X_train = X_train.fillna(value=0)\n",
    "X_test = X_test.fillna(value=0)"
   ]
  },
  {
   "cell_type": "code",
   "execution_count": 4,
   "metadata": {},
   "outputs": [],
   "source": [
    "min_child_weight_s = [1, 5, 10]\n",
    "gamma_s = [0.5, 1, 1.5, 2, 5]\n",
    "subsample_s = [0.6, 0.8, 1.0]\n",
    "colsample_bytree_s = [0.6, 0.8, 1.0]\n",
    "max_depth_s = [3, 4, 5]"
   ]
  },
  {
   "cell_type": "code",
   "execution_count": 5,
   "metadata": {},
   "outputs": [],
   "source": [
    "def f1_eval(y_pred, dtrain):\n",
    "    y_true = dtrain.get_label()\n",
    "    err = 1-f1_score(y_true, np.round(y_pred))\n",
    "    return 'f1_err', err"
   ]
  },
  {
   "cell_type": "code",
   "execution_count": null,
   "metadata": {},
   "outputs": [],
   "source": [
    "dtrain = xgb.DMatrix(X_train, label=y_train)\n",
    "dtest = xgb.DMatrix(X_test, label=y_test)\n",
    "\n",
    "data = []\n",
    "\n",
    "for min_child_weight in min_child_weight_s:\n",
    "    for gamma in gamma_s:\n",
    "        for subsample in subsample_s:\n",
    "            for colsample_bytree in colsample_bytree_s:\n",
    "                for max_depth in max_depth_s:\n",
    "\n",
    "                    param = {'silent': 0,\n",
    "                             'objective': 'binary:logistic',\n",
    "                             'min_child_weight': min_child_weight,\n",
    "                             'gamma': gamma,\n",
    "                             'subsample': subsample,\n",
    "                             'colsample_bytree': colsample_bytree,\n",
    "                             'max_depth': max_depth\n",
    "                            }\n",
    "                    param['nthread'] = 4\n",
    "                    param['eval_metric'] = f1_eval\n",
    "\n",
    "                    evallist = [(dtest, 'eval'), (dtrain, 'train')]\n",
    "\n",
    "                    plst = param.items()\n",
    "\n",
    "                    num_round = 10\n",
    "                    bst = xgb.train(plst, dtrain, num_round, evallist, verbose_eval=False)\n",
    "                    \n",
    "                    y_pred = bst.predict(dtest)\n",
    "                    f1 = f1_score(y_test, y_pred)\n",
    "                    \n",
    "                    print(min_child_weight, gamma, subsample, colsample_bytree, max_depth)\n",
    "                    data.append((min_child_weight, gamma, subsample, colsample_bytree, max_depth, f1))\n",
    "\n",
    "                    \n",
    "                    \n",
    "                    \n",
    "dataset = pd.DataFrame(data, columns=['min_child_weight', 'gamma', 'subsample',\n",
    "                                      'colsample_bytree', 'max_depth', 'f1'])\n",
    "\n",
    "dataset.to_csv('dataset1_xgboost.csv', index=False)"
   ]
  }
 ],
 "metadata": {
  "kernelspec": {
   "display_name": "Python 3",
   "language": "python",
   "name": "python3"
  },
  "language_info": {
   "codemirror_mode": {
    "name": "ipython",
    "version": 3
   },
   "file_extension": ".py",
   "mimetype": "text/x-python",
   "name": "python",
   "nbconvert_exporter": "python",
   "pygments_lexer": "ipython3",
   "version": "3.7.3"
  }
 },
 "nbformat": 4,
 "nbformat_minor": 2
}
