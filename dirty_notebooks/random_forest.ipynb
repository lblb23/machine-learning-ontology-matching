{
 "cells": [
  {
   "cell_type": "code",
   "execution_count": 5,
   "metadata": {},
   "outputs": [],
   "source": [
    "import pandas as pd\n",
    "from sklearn.ensemble import RandomForestClassifier\n",
    "from sklearn.metrics import f1_score"
   ]
  },
  {
   "cell_type": "code",
   "execution_count": 6,
   "metadata": {},
   "outputs": [],
   "source": [
    "train_features = pd.read_csv('dataset1_train_features.csv')\n",
    "test_features = pd.read_csv('dataset1_test_features.csv')\n",
    "\n",
    "train_types = []\n",
    "\n",
    "for row in train_features['Type']:\n",
    "    if row == 'Class':\n",
    "        train_types.append(1)\n",
    "    else:\n",
    "        train_types.append(0)\n",
    "        \n",
    "train_features['Type_encode'] = train_types\n",
    "\n",
    "test_types = []\n",
    "\n",
    "for row in test_features['Type']:\n",
    "    if row == 'Class':\n",
    "        test_types.append(1)\n",
    "    else:\n",
    "        test_types.append(0)\n",
    "        \n",
    "test_features['Type_encode'] = test_types\n",
    "\n",
    "X_train = train_features.loc[:, 'Ngram1_Entity':'Type_encode']\n",
    "y_train = train_features['Match']\n",
    "\n",
    "X_test = test_features.loc[:, 'Ngram1_Entity':'Type_encode']\n",
    "y_test = test_features['Match']\n",
    "\n",
    "df_train = train_features.loc[:, 'Ngram1_Entity':'Type_encode']\n",
    "df_train['Match'] = train_features['Match']\n",
    "\n",
    "df_test = test_features.loc[:, 'Ngram1_Entity':'Type_encode']\n",
    "df_test['Match'] = test_features['Match']\n",
    "\n",
    "X_train = X_train.fillna(value=0)\n",
    "X_test = X_test.fillna(value=0)"
   ]
  },
  {
   "cell_type": "code",
   "execution_count": 11,
   "metadata": {},
   "outputs": [
    {
     "name": "stdout",
     "output_type": "stream",
     "text": [
      "10 None 2 None\n"
     ]
    }
   ],
   "source": [
    "n_estimators_s = [10, 100, 200, 500, 1000]\n",
    "max_features_s = ['auto', 'sqrt', 'log2', None]\n",
    "max_depth_s = [2, 3, 4]\n",
    "class_weight_s = ['balanced', 'balanced_subsample', None]\n",
    "\n",
    "n_estimators_s = [10]\n",
    "max_features_s = [None]\n",
    "max_depth_s = [2]\n",
    "class_weight_s = [None]\n",
    "\n",
    "data = []\n",
    "\n",
    "for n_estimator in n_estimators_s:\n",
    "    for max_features in max_features_s:\n",
    "        for max_depth in max_depth_s:\n",
    "            for class_weight in class_weight_s:\n",
    "                \n",
    "                print(n_estimator, max_features, max_depth, class_weight)\n",
    "                \n",
    "                rfc = RandomForestClassifier(n_jobs=-1,\n",
    "                                            n_estimators=n_estimator,\n",
    "                                            max_features=max_features,\n",
    "                                            max_depth=max_depth,\n",
    "                                            class_weight=class_weight)\n",
    "\n",
    "                rfc.fit(X_train, y_train)\n",
    "                \n",
    "                y_pred = rfc.predict(X_test)\n",
    "                f1 = f1_score(y_test, y_pred)\n",
    "                \n",
    "                data.append((n_estimator, max_features, max_depth, class_weight, f1))\n",
    "                \n",
    "    \n",
    "dataset = pd.DataFrame(data, columns=['n_estimator', 'max_features', 'max_depth',\n",
    "                                      'class_weight', 'f1'])\n",
    "\n",
    "dataset.to_csv('dataset1_randomforest.csv', index=False)"
   ]
  },
  {
   "cell_type": "code",
   "execution_count": null,
   "metadata": {},
   "outputs": [],
   "source": [
    "rfc = RandomForestClassifier(n_jobs=-1)\n",
    "\n",
    "param_grid = { \n",
    "    'n_estimators': [10, 100, 200, 500, 1000],\n",
    "    'max_features': ['auto', 'sqrt', 'log2', None],\n",
    "    'max_depth': [2, 3, 4],\n",
    "    'class_weight': ['balanced', 'balanced_subsample', None]\n",
    "}\n",
    "\n",
    "CV_rfc = GridSearchCV(estimator=rfc, param_grid=param_grid, cv=5)\n",
    "CV_rfc.fit(X_train, y_train)\n",
    "print CV_rfc.best_params_"
   ]
  }
 ],
 "metadata": {
  "kernelspec": {
   "display_name": "Python 3",
   "language": "python",
   "name": "python3"
  },
  "language_info": {
   "codemirror_mode": {
    "name": "ipython",
    "version": 3
   },
   "file_extension": ".py",
   "mimetype": "text/x-python",
   "name": "python",
   "nbconvert_exporter": "python",
   "pygments_lexer": "ipython3",
   "version": "3.6.8"
  }
 },
 "nbformat": 4,
 "nbformat_minor": 2
}
