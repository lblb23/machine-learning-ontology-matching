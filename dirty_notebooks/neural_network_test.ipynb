{
 "cells": [
  {
   "cell_type": "code",
   "execution_count": 3,
   "metadata": {},
   "outputs": [],
   "source": [
    "import pandas as pd"
   ]
  },
  {
   "cell_type": "code",
   "execution_count": 66,
   "metadata": {},
   "outputs": [],
   "source": [
    "train_features = pd.read_csv('dataset1_train_features.csv')\n",
    "test_features = pd.read_csv('dataset1_test_features.csv')\n",
    "\n",
    "train_types = []\n",
    "\n",
    "for row in train_features['Type']:\n",
    "    if row == 'Class':\n",
    "        train_types.append(1)\n",
    "    else:\n",
    "        train_types.append(0)\n",
    "        \n",
    "train_features['Type_encode'] = train_types\n",
    "\n",
    "test_types = []\n",
    "\n",
    "for row in test_features['Type']:\n",
    "    if row == 'Class':\n",
    "        test_types.append(1)\n",
    "    else:\n",
    "        test_types.append(0)\n",
    "        \n",
    "test_features['Type_encode'] = test_types\n",
    "\n",
    "X_train = train_features.loc[:, 'Ngram1_Entity':'Type_encode']\n",
    "y_train = train_features['Match']\n",
    "\n",
    "X_test = test_features.loc[:, 'Ngram1_Entity':'Type_encode']\n",
    "y_test = test_features['Match']\n",
    "\n",
    "df_train = train_features.loc[:, 'Ngram1_Entity':'Type_encode']\n",
    "df_train['Match'] = train_features['Match']\n",
    "\n",
    "df_test = test_features.loc[:, 'Ngram1_Entity':'Type_encode']\n",
    "df_test['Match'] = test_features['Match']\n",
    "\n",
    "X_train = X_train.fillna(value=0)\n",
    "X_test = X_test.fillna(value=0)\n"
   ]
  },
  {
   "cell_type": "code",
   "execution_count": 67,
   "metadata": {},
   "outputs": [],
   "source": [
    "from keras.models import Sequential\n",
    "from keras.layers import Dense\n",
    "from keras.callbacks import ModelCheckpoint\n",
    "import numpy\n",
    "from keras.callbacks import Callback"
   ]
  },
  {
   "cell_type": "code",
   "execution_count": 70,
   "metadata": {},
   "outputs": [],
   "source": [
    "model = Sequential()\n",
    "model.add(Dense(10, input_dim=88, activation='linear'))\n",
    "model.add(Dense(8, activation='linear'))\n",
    "model.add(Dense(8, activation='linear'))\n",
    "model.add(Dense(1, activation='sigmoid'))"
   ]
  },
  {
   "cell_type": "code",
   "execution_count": 71,
   "metadata": {},
   "outputs": [
    {
     "name": "stdout",
     "output_type": "stream",
     "text": [
      "Train on 14148 samples, validate on 14940 samples\n",
      "Epoch 1/15\n",
      "14148/14148 [==============================] - 2s 165us/step - loss: 0.0308 - acc: 0.9917 - val_loss: 0.0232 - val_acc: 0.9961\n",
      "\n",
      "Epoch 00001: val_loss improved from inf to 0.02316, saving model to model-001-0.991660-0.996118.h5\n",
      "Epoch 2/15\n",
      "14148/14148 [==============================] - 1s 104us/step - loss: 0.0203 - acc: 0.9948 - val_loss: 0.0225 - val_acc: 0.9961\n",
      "\n",
      "Epoch 00002: val_loss improved from 0.02316 to 0.02253, saving model to model-002-0.994840-0.996051.h5\n",
      "Epoch 3/15\n",
      "14148/14148 [==============================] - 1s 98us/step - loss: 0.0200 - acc: 0.9951 - val_loss: 0.0220 - val_acc: 0.9962\n",
      "\n",
      "Epoch 00003: val_loss improved from 0.02253 to 0.02203, saving model to model-003-0.995052-0.996185.h5\n",
      "Epoch 4/15\n",
      "14148/14148 [==============================] - 1s 103us/step - loss: 0.0194 - acc: 0.9943 - val_loss: 0.0276 - val_acc: 0.9950\n",
      "\n",
      "Epoch 00004: val_loss did not improve from 0.02203\n",
      "Epoch 5/15\n",
      "14148/14148 [==============================] - 1s 101us/step - loss: 0.0186 - acc: 0.9953 - val_loss: 0.0288 - val_acc: 0.9946\n",
      "\n",
      "Epoch 00005: val_loss did not improve from 0.02203\n",
      "Epoch 6/15\n",
      "14148/14148 [==============================] - 2s 113us/step - loss: 0.0174 - acc: 0.9953 - val_loss: 0.0244 - val_acc: 0.9950\n",
      "\n",
      "Epoch 00006: val_loss did not improve from 0.02203\n",
      "Epoch 7/15\n",
      "14148/14148 [==============================] - 2s 111us/step - loss: 0.0185 - acc: 0.9943 - val_loss: 0.0249 - val_acc: 0.9952\n",
      "\n",
      "Epoch 00007: val_loss did not improve from 0.02203\n",
      "Epoch 8/15\n",
      "14148/14148 [==============================] - 2s 121us/step - loss: 0.0178 - acc: 0.9955 - val_loss: 0.0237 - val_acc: 0.9961\n",
      "\n",
      "Epoch 00008: val_loss did not improve from 0.02203\n",
      "Epoch 9/15\n",
      "14148/14148 [==============================] - 2s 107us/step - loss: 0.0164 - acc: 0.9956 - val_loss: 0.0261 - val_acc: 0.9954\n",
      "\n",
      "Epoch 00009: val_loss did not improve from 0.02203\n",
      "Epoch 10/15\n",
      "14148/14148 [==============================] - 1s 104us/step - loss: 0.0163 - acc: 0.9953 - val_loss: 0.0240 - val_acc: 0.9962\n",
      "\n",
      "Epoch 00010: val_loss did not improve from 0.02203\n",
      "Epoch 11/15\n",
      "14148/14148 [==============================] - 1s 100us/step - loss: 0.0168 - acc: 0.9951 - val_loss: 0.0298 - val_acc: 0.9928\n",
      "\n",
      "Epoch 00011: val_loss did not improve from 0.02203\n",
      "Epoch 12/15\n",
      "14148/14148 [==============================] - 1s 92us/step - loss: 0.0166 - acc: 0.9955 - val_loss: 0.0244 - val_acc: 0.9954\n",
      "\n",
      "Epoch 00012: val_loss did not improve from 0.02203\n",
      "Epoch 13/15\n",
      "14148/14148 [==============================] - 1s 89us/step - loss: 0.0158 - acc: 0.9956 - val_loss: 0.0292 - val_acc: 0.9932\n",
      "\n",
      "Epoch 00013: val_loss did not improve from 0.02203\n",
      "Epoch 14/15\n",
      "14148/14148 [==============================] - 1s 88us/step - loss: 0.0166 - acc: 0.9952 - val_loss: 0.0230 - val_acc: 0.9955\n",
      "\n",
      "Epoch 00014: val_loss did not improve from 0.02203\n",
      "Epoch 15/15\n",
      "14148/14148 [==============================] - 1s 90us/step - loss: 0.0168 - acc: 0.9953 - val_loss: 0.0241 - val_acc: 0.9957\n",
      "\n",
      "Epoch 00015: val_loss did not improve from 0.02203\n"
     ]
    },
    {
     "data": {
      "text/plain": [
       "<keras.callbacks.History at 0x121784a58>"
      ]
     },
     "execution_count": 71,
     "metadata": {},
     "output_type": "execute_result"
    }
   ],
   "source": [
    "checkpoint = ModelCheckpoint('model-{epoch:03d}-{acc:03f}-{val_acc:03f}.h5', verbose=1, monitor='val_loss',save_best_only=True, mode='auto')  \n",
    "\n",
    "model.compile(optimizer='adam', loss='binary_crossentropy', metrics=['accuracy'])\n",
    "\n",
    "model.fit(X_train, y_train, epochs=15, validation_data = (X_test, y_test), callbacks=[checkpoint], verbose=True)"
   ]
  },
  {
   "cell_type": "code",
   "execution_count": 50,
   "metadata": {},
   "outputs": [
    {
     "data": {
      "text/plain": [
       "(14148, 88)"
      ]
     },
     "execution_count": 50,
     "metadata": {},
     "output_type": "execute_result"
    }
   ],
   "source": [
    "X_train.shape"
   ]
  },
  {
   "cell_type": "code",
   "execution_count": null,
   "metadata": {},
   "outputs": [],
   "source": []
  }
 ],
 "metadata": {
  "kernelspec": {
   "display_name": "Python 3",
   "language": "python",
   "name": "python3"
  },
  "language_info": {
   "codemirror_mode": {
    "name": "ipython",
    "version": 3
   },
   "file_extension": ".py",
   "mimetype": "text/x-python",
   "name": "python",
   "nbconvert_exporter": "python",
   "pygments_lexer": "ipython3",
   "version": "3.6.8"
  }
 },
 "nbformat": 4,
 "nbformat_minor": 2
}
